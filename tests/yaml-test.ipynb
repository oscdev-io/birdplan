{
 "cells": [
  {
   "cell_type": "code",
   "execution_count": 6,
   "metadata": {},
   "outputs": [
    {
     "name": "stdout",
     "output_type": "stream",
     "text": [
      "ruamel.yaml is using the C library\n",
      "Normal yaml :  3.6992921410128474\n",
      "Ruamel yaml :  1.0288359450059943\n",
      "JSON        :  0.6750548609998077\n",
      "JSONS       :  0.7842083179857582\n",
      "JSON Pretty :  1.2286666650034022\n",
      "JSONS Pretty:  1.2248095969844144\n"
     ]
    }
   ],
   "source": [
    "import yaml\n",
    "import ruamel.yaml as ryaml\n",
    "import timeit\n",
    "import json\n",
    "\n",
    "if ryaml.__with_libyaml__:\n",
    "    print(\"ruamel.yaml is using the C library\")\n",
    "else:\n",
    "    print(\"ruamel.yaml is not using the C library\")\n",
    "\n",
    "\n",
    "class YAMLSafeLoader(yaml.SafeLoader):  # pylint: disable=too-many-ancestors\n",
    "    \"\"\"Safe YAML loader wtih some specific datatypes.\"\"\"\n",
    "\n",
    "    def construct_python_tuple(self, node):\n",
    "        \"\"\"Tuple constructor.\"\"\"\n",
    "        return tuple(self.construct_sequence(node))\n",
    "\n",
    "\n",
    "YAMLSafeLoader.add_constructor(\"tag:yaml.org,2002:python/tuple\", YAMLSafeLoader.construct_python_tuple)\n",
    "\n",
    "yaml2 = ryaml.YAML(typ=\"safe\")\n",
    "\n",
    "# Add the custom constructor to the constructor registry\n",
    "yaml2.constructor.add_constructor(\"tag:yaml.org,2002:python/tuple\", lambda loader, node: tuple(loader.construct_sequence(node)))\n",
    "\n",
    "\n",
    "def test_normal_yaml():\n",
    "    with open(\"birdplan.state\", \"r\") as f:\n",
    "        config = yaml.load(f, YAMLSafeLoader)\n",
    "\n",
    "\n",
    "def test_ruamel_yaml():\n",
    "    with open(\"birdplan.state\", \"r\") as f:\n",
    "        config = yaml2.load(f)\n",
    "\n",
    "\n",
    "def test_json():\n",
    "    with open(\"birdplan.state.json\", \"r\") as f:\n",
    "        config = json.load(f)\n",
    "\n",
    "\n",
    "def test_json_loads():\n",
    "    with open(\"birdplan.state.json\", \"r\") as f:\n",
    "        data = f.read()\n",
    "    config = json.loads(data)\n",
    "\n",
    "\n",
    "def test_json_pretty():\n",
    "    with open(\"birdplan.state.json.pretty\", \"r\") as f:\n",
    "        config = json.load(f)\n",
    "\n",
    "\n",
    "def test_json_pretty_loads():\n",
    "    with open(\"birdplan.state.json.pretty\", \"r\") as f:\n",
    "        data = f.read()\n",
    "    config = json.loads(data)\n",
    "\n",
    "\n",
    "print(\"Normal yaml : \", timeit.timeit(\"test_normal_yaml()\", setup=\"from __main__ import test_normal_yaml\", number=1))\n",
    "print(\"Ruamel yaml : \", timeit.timeit(\"test_ruamel_yaml()\", setup=\"from __main__ import test_ruamel_yaml\", number=1))\n",
    "print(\"JSON        : \", timeit.timeit(\"test_json()\", setup=\"from __main__ import test_json\", number=100))\n",
    "print(\"JSONS       : \", timeit.timeit(\"test_json_loads()\", setup=\"from __main__ import test_json_loads\", number=100))\n",
    "print(\"JSON Pretty : \", timeit.timeit(\"test_json_pretty()\", setup=\"from __main__ import test_json_pretty\", number=100))\n",
    "print(\"JSONS Pretty: \", timeit.timeit(\"test_json_pretty_loads()\", setup=\"from __main__ import test_json_pretty_loads\", number=100))"
   ]
  }
 ],
 "metadata": {
  "kernelspec": {
   "display_name": "development",
   "language": "python",
   "name": "python3"
  },
  "language_info": {
   "codemirror_mode": {
    "name": "ipython",
    "version": 3
   },
   "file_extension": ".py",
   "mimetype": "text/x-python",
   "name": "python",
   "nbconvert_exporter": "python",
   "pygments_lexer": "ipython3",
   "version": "3.11.6"
  }
 },
 "nbformat": 4,
 "nbformat_minor": 2
}
